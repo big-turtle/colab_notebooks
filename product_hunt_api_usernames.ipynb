{
 "cells": [
  {
   "cell_type": "markdown",
   "metadata": {},
   "source": [
    "# Getting Votes From ProductHunt API\n",
    "The following script will let you gather all usernames from people who upvoted a certain product on ProductHunt. The only thing you'll need is a link to the product you're interested in.\n",
    "\n",
    "Let's get started!\n",
    "\n",
    "First, we'll need to set-up the environment."
   ]
  },
  {
   "cell_type": "code",
   "execution_count": null,
   "metadata": {},
   "outputs": [],
   "source": [
    "import requests\n",
    "import json\n",
    "import time\n",
    "\n",
    "# only if using ALTERNATIVE AUTH\n",
    "#import yaml\n",
    "\n",
    "print('Module import - DONE')"
   ]
  },
  {
   "cell_type": "markdown",
   "metadata": {},
   "source": [
    "Next, you'll have to enter the URL of the product you're interested in. Note that a product's link is preceded by `/posts/` and the link has to be in quotation marks.\n",
    "\n",
    "This cell will output the product's name, just to check if everything works. If you see output that does not resemble the product's name, make sure that the link you entered follows the pattern `https://www.producthunt.com/posts/product-name`"
   ]
  },
  {
   "cell_type": "code",
   "execution_count": null,
   "metadata": {},
   "outputs": [],
   "source": [
    "# your product's url in quotation marks\n",
    "prod_url = \"https://www.producthunt.com/posts/pivot-bed\"\n",
    "\n",
    "prod_name = prod_url.split('/')\n",
    "prod_name = prod_name[-1]\n",
    "print('Product selected:' + prod_name)"
   ]
  },
  {
   "cell_type": "markdown",
   "metadata": {},
   "source": [
    "To access the API, you'll have to provide a password. To get a password, you need to register your application, in this case - the script you're using at the moment. This can be done if you log in your ProductHunt account and go [here](https://api.producthunt.com/v2/oauth/applications/new). \n",
    "\n",
    "Name your application, and provide a redirect URI. Since we won't be actually using it, you can write something like `https://localhost:3000/ `\n",
    "\n",
    "After this you'll need to click `create token` under Developer token section. Copy the token here, replacing the `'YOUR-DEVELOPER-TOKEN'` placeholder. Your token will be a string of random letters and numbers. Note, that the token needs to be in quotation marks. "
   ]
  },
  {
   "cell_type": "code",
   "execution_count": null,
   "metadata": {},
   "outputs": [],
   "source": [
    "# ALTERNATIVE AUTH:\n",
    "# with open(\"config.yml\", 'r') as file:\n",
    "#    yml = yaml.safe_load(file)\n",
    "#\n",
    "# get access token with yml['access_token']\n",
    "\n",
    "# register developer token here: https://api.producthunt.com/v2/oauth/applications/new\n",
    "access_token = 'YOUR-DEVELOPER-TOKEN'\n",
    "print('Adding access token - DONE')"
   ]
  },
  {
   "cell_type": "markdown",
   "metadata": {},
   "source": [
    "Next, the script connects to ProductHunt's API, loads a function that will be needed later, and initializes the variables."
   ]
  },
  {
   "cell_type": "code",
   "execution_count": null,
   "metadata": {
    "scrolled": true
   },
   "outputs": [],
   "source": [
    "url = \"https://api.producthunt.com/v2/api/graphql\"\n",
    "\n",
    "headers = {\n",
    "    'Accept': 'application/json',\n",
    "    'Content-Type': 'application/json',\n",
    "    'Authorization': 'Bearer '+ access_token,\n",
    "    'Host': 'api.producthunt.com',\n",
    "    }\n",
    "\n",
    "# flattens the nested json dictionary, courtesy of a.ziai\n",
    "def flatten_json(y):\n",
    "    out = {}\n",
    "\n",
    "    def flatten(x, name=''):\n",
    "        if type(x) is dict:\n",
    "            for a in x:\n",
    "                flatten(x[a], name + a + '_')\n",
    "        elif type(x) is list:\n",
    "            i = 0\n",
    "            for a in x:\n",
    "                flatten(a, name + str(i) + '_')\n",
    "                i += 1\n",
    "        else:\n",
    "            out[name[:-1]] = x\n",
    "\n",
    "    flatten(y)\n",
    "    return out\n",
    "\n",
    "condition = True\n",
    "cursor = ''\n",
    "user_list = []\n",
    "\n",
    "print('Initialization - DONE')"
   ]
  },
  {
   "cell_type": "markdown",
   "metadata": {},
   "source": [
    "The next cell is what gets the usernames. Note that depending on the vote count, it may take some time to run. For example, around 350 votes and their corresponding usernames take around a minute to download. So, be patient."
   ]
  },
  {
   "cell_type": "code",
   "execution_count": null,
   "metadata": {},
   "outputs": [],
   "source": [
    "while condition is True:\n",
    "    \n",
    "    query = \"\"\"\n",
    "    {\n",
    "    post(slug:\\\"\"\"\" + str(prod_name) + \"\"\"\\\") {\n",
    "        votes(first:20, after:\\\"\"\"\" + str(cursor) + \"\"\"\\\") {\n",
    "          pageInfo{\n",
    "            hasNextPage\n",
    "            endCursor\n",
    "          }\n",
    "            edges {\n",
    "                node {\n",
    "                  user {\n",
    "                    username\n",
    "                      }\n",
    "                    }\n",
    "                  }\n",
    "            }\n",
    "        }\n",
    "    }\n",
    "    \"\"\"\n",
    "\n",
    "    r = requests.post(url, json={'query': query}, headers = headers)\n",
    "    \n",
    "    if r.status_code == 200:\n",
    "        json_data = json.loads(r.text)\n",
    "        temp_json = flatten_json(json_data)\n",
    "        temp_list = list(temp_json.values())\n",
    "        \n",
    "        # checks if there is a next page\n",
    "        condition = temp_list[0]\n",
    "        \n",
    "        if condition is None:\n",
    "            for i in range(2, len(temp_list)):\n",
    "                user_list.append(temp_list[i])\n",
    "            break\n",
    "            \n",
    "        if condition is False:\n",
    "            for i in range(2, len(temp_list)):\n",
    "                user_list.append(temp_list[i])\n",
    "            break\n",
    "\n",
    "        # last entry in the page\n",
    "        cursor = temp_list[1]\n",
    "\n",
    "        # adds users to list\n",
    "        for i in range(2, len(temp_list)):\n",
    "            user_list.append(temp_list[i])\n",
    "    \n",
    "    # checks if too many requests have been sent\n",
    "    if r.status_code == 429:\n",
    "        g = r.headers\n",
    "        if int(g['X-Rate-Limit-Remaining']) <= 0:\n",
    "            # waits for n seconds until rate limit resets\n",
    "            print('You have exceeded the API rate limit, try again after ' + g['X-Rate-Limit-Reset'] + ' seconds.')\n",
    "            time.sleep(int(g['X-Rate-Limit-Reset']))\n",
    "            print('Wait over. Restart the kernel and try again.')\n",
    "            \n",
    "print('Accessing API - DONE')"
   ]
  },
  {
   "cell_type": "markdown",
   "metadata": {},
   "source": [
    "If you receive the message that you've exceeded the API rate limit, the program will wait however many seconds are needed until the limit resets. After waiting, you'll need to restart the kernel or refresh the page to resume getting usernames. However, you can still go to the `user_names` section and print out all of the usernames that have been collected before the rate-limit was reached.\n",
    "\n",
    "ProductHunt's rate limit restrictions are quite vague, and according to its documentation, can also be modified according to API's traffic. On an isolated occurrence, I've downloaded over 1000 usernames in under 15 minutes with this script, so there shouldn't be many rate-limit concerning errors with regular usage, as this API request is fairly simple. \n",
    "\n",
    "The next cell prints out the amount of usernames you got."
   ]
  },
  {
   "cell_type": "code",
   "execution_count": null,
   "metadata": {},
   "outputs": [],
   "source": [
    "print('Downloaded ' + len(user_list) + 'usernames')"
   ]
  },
  {
   "cell_type": "markdown",
   "metadata": {},
   "source": [
    "Finally, the last cell prints out the username list of all users that upvoted a product on ProductHunt. "
   ]
  },
  {
   "cell_type": "code",
   "execution_count": null,
   "metadata": {},
   "outputs": [],
   "source": [
    "user_list"
   ]
  }
 ],
 "metadata": {
  "kernelspec": {
   "display_name": "Python 3",
   "language": "python",
   "name": "python3"
  },
  "language_info": {
   "codemirror_mode": {
    "name": "ipython",
    "version": 3
   },
   "file_extension": ".py",
   "mimetype": "text/x-python",
   "name": "python",
   "nbconvert_exporter": "python",
   "pygments_lexer": "ipython3",
   "version": "3.7.6"
  }
 },
 "nbformat": 4,
 "nbformat_minor": 4
}
