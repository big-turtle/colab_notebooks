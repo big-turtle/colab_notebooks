{
 "cells": [
  {
   "cell_type": "markdown",
   "metadata": {},
   "source": [
    "# Scraping Twitter"
   ]
  },
  {
   "cell_type": "code",
   "execution_count": null,
   "metadata": {},
   "outputs": [],
   "source": [
    "# installs modules and driver for Chrome\n",
    "!pip install selenium beautifulsoup4\n",
    "!apt update \n",
    "!apt install firefox-geckodriver\n",
    "!cp /usr/lib/geckodriver /usr/bin\n",
    "!cp /usr/lib/firefox /usr/bin"
   ]
  },
  {
   "cell_type": "code",
   "execution_count": null,
   "metadata": {},
   "outputs": [],
   "source": [
    "from selenium import webdriver\n",
    "\n",
    "binary = '/usr/bin/firefox'\n",
    "options = webdriver.FirefoxOptions('--headless --no-sandbox --disable-dev-shm-usage')\n",
    "options.binary = binary\n",
    "\n",
    "webdriver.Firefox(firefox_options=options, executable_path='/usr/bin/geckodriver')"
   ]
  }
 ],
 "metadata": {
  "kernelspec": {
   "display_name": "Python 3",
   "language": "python",
   "name": "python3"
  },
  "language_info": {
   "codemirror_mode": {
    "name": "ipython",
    "version": 3
   },
   "file_extension": ".py",
   "mimetype": "text/x-python",
   "name": "python",
   "nbconvert_exporter": "python",
   "pygments_lexer": "ipython3",
   "version": "3.8.3"
  }
 },
 "nbformat": 4,
 "nbformat_minor": 4
}
