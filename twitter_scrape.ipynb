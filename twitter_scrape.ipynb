{
 "cells": [
  {
   "cell_type": "markdown",
   "metadata": {},
   "source": [
    "# Scraping Twitter"
   ]
  },
  {
   "cell_type": "code",
   "execution_count": null,
   "metadata": {},
   "outputs": [],
   "source": [
    "# installs modules and driver for Chrome\n",
    "!pip install selenium\n",
    "!apt-get update \n",
    "!apt install chromium-chromedriver"
   ]
  },
  {
   "cell_type": "code",
   "execution_count": null,
   "metadata": {},
   "outputs": [],
   "source": [
    "from selenium import webdriver\n",
    "from selenium.webdriver.common.by import By\n",
    "from selenium.webdriver.support.ui import WebDriverWait\n",
    "from selenium.webdriver.support import expected_conditions as ec"
   ]
  },
  {
   "cell_type": "code",
   "execution_count": null,
   "metadata": {},
   "outputs": [],
   "source": [
    "# takes one argument at a time\n",
    "options = webdriver.ChromeOptions()\n",
    "options.add_argument('--headless')\n",
    "options.add_argument('--no-sandbox')\n",
    "options.add_argument('--disable-dev-shm-usage')\n",
    "driver = webdriver.Chrome('chromedriver', options = options)\n",
    "\n",
    "driver.get(\"https://twitter.com/explore\")"
   ]
  },
  {
   "cell_type": "code",
   "execution_count": null,
   "metadata": {},
   "outputs": [],
   "source": [
    "# URL you want to search for\n",
    "target_url = 'https://www.searchenginejournal.com/facebook-ads-to-remove-28-day-attribution-model/382436/'\n",
    "search_bar = \"//input[contains(@testid, 'SearchBox_Search_Input')]\"\n",
    "\n",
    "wait = WebDriverWait(driver, 10)\n",
    "wait.until(ec.visibility_of_element_located((By.XPATH, search_bar)))\n",
    "\n",
    "src = driver.find_element_by_xpath(search_bar)\n",
    "src.send_keys(target_url)\n",
    "src.send_keys(Keys.ENTER)"
   ]
  },
  {
   "cell_type": "markdown",
   "metadata": {},
   "source": [
    "\n",
    "https://twitter.com/search?q=https%3A%2F%2Fwww.google.com&src=typed_query\n",
    "\n",
    "If you type in the search bar:\n",
    "https://www.searchenginejournal.com/facebook-ads-to-remove-28-day-attribution-model/382436/\n",
    "\n",
    "You get:\n",
    "https://twitter.com/search?q=https%3A%2F%2Fwww.searchenginejournal.com%2Ffacebook-ads-to-remove-28-day-attribution-model%2F382436%2F&src=typed_query\n",
    "\n",
    "If you're looking for a URL:\n",
    "    "
   ]
  },
  {
   "cell_type": "code",
   "execution_count": null,
   "metadata": {},
   "outputs": [],
   "source": [
    "driver.quit()"
   ]
  }
 ],
 "metadata": {
  "kernelspec": {
   "display_name": "Python 3",
   "language": "python",
   "name": "python3"
  },
  "language_info": {
   "codemirror_mode": {
    "name": "ipython",
    "version": 3
   },
   "file_extension": ".py",
   "mimetype": "text/x-python",
   "name": "python",
   "nbconvert_exporter": "python",
   "pygments_lexer": "ipython3",
   "version": "3.8.3"
  }
 },
 "nbformat": 4,
 "nbformat_minor": 4
}
